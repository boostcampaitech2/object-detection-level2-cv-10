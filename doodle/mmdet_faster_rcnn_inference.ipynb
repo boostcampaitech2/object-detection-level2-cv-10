{
 "cells": [
  {
   "cell_type": "code",
   "execution_count": 1,
   "id": "3fd75793",
   "metadata": {},
   "outputs": [],
   "source": [
    "import os\n",
    "import pandas as pd\n",
    "\n",
    "import torch\n",
    "\n",
    "# import mmcv\n",
    "from mmcv import Config\n",
    "from mmdet.datasets import build_dataloader, build_dataset\n",
    "from mmdet.models import build_detector\n",
    "from mmdet.apis import single_gpu_test\n",
    "from mmcv.runner import load_checkpoint\n",
    "from mmcv.parallel import MMDataParallel\n",
    "\n",
    "from pycocotools.coco import COCO"
   ]
  },
  {
   "cell_type": "code",
   "execution_count": null,
   "metadata": {},
   "outputs": [],
   "source": [
    "work_dir = '/opt/ml/Git/p_stage_obj_det/mmdet/config/work_dirs/swin-s_img-768_AdamW-20e/'\n",
    "config_file_name = '/opt/ml/Git/p_stage_obj_det/mmdet/config/models/swin/swin-s_img-768_AdamW-20e.py'"
   ]
  },
  {
   "cell_type": "code",
   "execution_count": 3,
   "id": "edda58ea",
   "metadata": {},
   "outputs": [],
   "source": [
    "class InferMMDet:\n",
    "    def __init__(self, config_file_name, work_dir, samples_per_gpu: int =None, workers_per_gpu: int =None, gpu_ids=[0]) -> None:\n",
    "        self.cfg = Config.fromfile(config_file_name)\n",
    "\n",
    "        self.cfg.gpu_ids = gpu_ids\n",
    "\n",
    "        if samples_per_gpu:\n",
    "            self.cfg.data.samples_per_gpu = samples_per_gpu\n",
    "        if workers_per_gpu:\n",
    "            self.cfg.data.workers_per_gpu = workers_per_gpu\n",
    "\n",
    "        self.cfg.work_dir = work_dir\n",
    "\n",
    "        # cfg.optimizer_config.grad_clip = dict(max_norm=35, norm_type=2)\n",
    "        self.cfg.model.train_cfg = None\n",
    "\n",
    "        # build dataset & dataloader\n",
    "        dataset = build_dataset(self.cfg.data.test)\n",
    "        self.data_loader = build_dataloader(\n",
    "                dataset,\n",
    "                samples_per_gpu=self.cfg.data.samples_per_gpu,\n",
    "                workers_per_gpu=self.cfg.data.workers_per_gpu,\n",
    "                dist=False,\n",
    "                shuffle=False)\n",
    "\n",
    "        # checkpoint path\n",
    "        checkpoint_path = os.path.join(self.cfg.work_dir, f'epoch_3.pth')\n",
    "\n",
    "        model = build_detector(self.cfg.model, test_cfg=self.cfg.get('test_cfg')) # build detector\n",
    "        checkpoint = load_checkpoint(model, checkpoint_path, map_location='cpu') # ckpt load\n",
    "        # checkpoint = load_checkpoint(model, checkpoint_path) # ckpt load\n",
    "        self.checkpoint = checkpoint\n",
    "\n",
    "        model.CLASSES = dataset.CLASSES\n",
    "        model = MMDataParallel(model.cuda(), device_ids=[0])\n",
    "        self.model = model\n",
    "\n",
    "    def inference(self):\n",
    "        return single_gpu_test(self.model, self.data_loader, show_score_thr=0.05) # output 계산\n",
    "    \n",
    "    def output2dataframe(self, output, save_file_name=None):\n",
    "        assert output, 'output required !!'\n",
    "        # submission 양식에 맞게 output 후처리\n",
    "        prediction_strings = []\n",
    "        file_names = []\n",
    "        coco = COCO(self.cfg.data.test.ann_file)\n",
    "        img_ids = coco.getImgIds()\n",
    "\n",
    "        class_num = 10\n",
    "        for i, out in enumerate(output):\n",
    "            prediction_string = ''\n",
    "            image_info = coco.loadImgs(coco.getImgIds(imgIds=i))[0]\n",
    "            for j in range(class_num):\n",
    "                for o in out[j]:\n",
    "                    prediction_string += str(j) + ' ' + str(o[4]) + ' ' + str(o[0]) + ' ' + str(o[1]) + ' ' + str(\n",
    "                        o[2]) + ' ' + str(o[3]) + ' '\n",
    "                \n",
    "            prediction_strings.append(prediction_string)\n",
    "            file_names.append(image_info['file_name'])\n",
    "\n",
    "        submission = pd.DataFrame()\n",
    "        submission['PredictionString'] = prediction_strings\n",
    "        submission['image_id'] = file_names\n",
    "        self.output_df = submission\n",
    "        if save_file_name:\n",
    "            submission.to_csv(os.path.join(self.cfg.work_dir, save_file_name), index=None)\n"
   ]
  },
  {
   "cell_type": "code",
   "execution_count": 6,
   "metadata": {},
   "outputs": [
    {
     "name": "stdout",
     "output_type": "stream",
     "text": [
      "loading annotations into memory...\n",
      "Done (t=0.06s)\n",
      "creating index...\n",
      "index created!\n",
      "Use load_from_local loader\n",
      "[                                 ] 1/488, 0.1 task/s, elapsed: 9s, ETA:  4619s"
     ]
    },
    {
     "name": "stderr",
     "output_type": "stream",
     "text": [
      "/opt/ml/Git/mmdetection/mmdet/core/anchor/anchor_generator.py:324: UserWarning: ``grid_anchors`` would be deprecated soon. Please use ``grid_priors`` \n",
      "  warnings.warn('``grid_anchors`` would be deprecated soon. '\n",
      "/opt/ml/Git/mmdetection/mmdet/core/anchor/anchor_generator.py:361: UserWarning: ``single_level_grid_anchors`` would be deprecated soon. Please use ``single_level_grid_priors`` \n",
      "  '``single_level_grid_anchors`` would be deprecated soon. '\n"
     ]
    },
    {
     "name": "stdout",
     "output_type": "stream",
     "text": [
      "[>>>>>>>>>>>>>>>>>>>>>>>>>>>>>] 488/488, 1.8 task/s, elapsed: 279s, ETA:     0s"
     ]
    }
   ],
   "source": [
    "infer_model = InferMMDet()\n",
    "output = infer_model.inference()"
   ]
  },
  {
   "cell_type": "code",
   "execution_count": null,
   "metadata": {},
   "outputs": [],
   "source": []
  }
 ],
 "metadata": {
  "interpreter": {
   "hash": "19fa6bb016dc26f96c5ea3c8cf3c376d8a3a24e7573ed982efd57ae86517f67d"
  },
  "kernelspec": {
   "display_name": "Python 3.9.7 64-bit ('py39_mmdet_venv': conda)",
   "name": "python3"
  },
  "language_info": {
   "codemirror_mode": {
    "name": "ipython",
    "version": 3
   },
   "file_extension": ".py",
   "mimetype": "text/x-python",
   "name": "python",
   "nbconvert_exporter": "python",
   "pygments_lexer": "ipython3",
   "version": "3.9.7"
  }
 },
 "nbformat": 4,
 "nbformat_minor": 5
}
