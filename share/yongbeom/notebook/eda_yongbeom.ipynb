{
 "cells": [
  {
   "cell_type": "code",
   "execution_count": 1,
   "source": [
    "import json\n",
    "\n",
    "import pandas as pd\n",
    "import matplotlib.pyplot as plt\n",
    "import seaborn as sns\n",
    "import numpy as np\n",
    "\n",
    "from sklearn.model_selection import StratifiedKFold"
   ],
   "outputs": [],
   "metadata": {}
  },
  {
   "cell_type": "code",
   "execution_count": 2,
   "source": [
    "DATA_DIR = \"/opt/ml/detection/dataset\""
   ],
   "outputs": [],
   "metadata": {}
  },
  {
   "cell_type": "markdown",
   "source": [
    "# Make Dataframe format (csv format)"
   ],
   "metadata": {}
  },
  {
   "cell_type": "code",
   "execution_count": 16,
   "source": [
    "with open(f'{DATA_DIR}/train.json', 'r') as f:\n",
    "    train_json = json.load(f)"
   ],
   "outputs": [],
   "metadata": {}
  },
  {
   "cell_type": "code",
   "execution_count": 17,
   "source": [
    "annotations_df = pd.DataFrame(train_json['annotations'])"
   ],
   "outputs": [],
   "metadata": {}
  },
  {
   "cell_type": "code",
   "execution_count": 18,
   "source": [
    "# bbox (xmin, ymin, w, h)\n",
    "annotations_df"
   ],
   "outputs": [
    {
     "output_type": "execute_result",
     "data": {
      "text/html": [
       "<div>\n",
       "<style scoped>\n",
       "    .dataframe tbody tr th:only-of-type {\n",
       "        vertical-align: middle;\n",
       "    }\n",
       "\n",
       "    .dataframe tbody tr th {\n",
       "        vertical-align: top;\n",
       "    }\n",
       "\n",
       "    .dataframe thead th {\n",
       "        text-align: right;\n",
       "    }\n",
       "</style>\n",
       "<table border=\"1\" class=\"dataframe\">\n",
       "  <thead>\n",
       "    <tr style=\"text-align: right;\">\n",
       "      <th></th>\n",
       "      <th>image_id</th>\n",
       "      <th>category_id</th>\n",
       "      <th>area</th>\n",
       "      <th>bbox</th>\n",
       "      <th>iscrowd</th>\n",
       "      <th>id</th>\n",
       "    </tr>\n",
       "  </thead>\n",
       "  <tbody>\n",
       "    <tr>\n",
       "      <th>0</th>\n",
       "      <td>0</td>\n",
       "      <td>0</td>\n",
       "      <td>257301.66</td>\n",
       "      <td>[197.6, 193.7, 547.8, 469.7]</td>\n",
       "      <td>0</td>\n",
       "      <td>0</td>\n",
       "    </tr>\n",
       "    <tr>\n",
       "      <th>1</th>\n",
       "      <td>1</td>\n",
       "      <td>3</td>\n",
       "      <td>10402.56</td>\n",
       "      <td>[0.0, 407.4, 57.6, 180.6]</td>\n",
       "      <td>0</td>\n",
       "      <td>1</td>\n",
       "    </tr>\n",
       "    <tr>\n",
       "      <th>2</th>\n",
       "      <td>1</td>\n",
       "      <td>7</td>\n",
       "      <td>26259.36</td>\n",
       "      <td>[0.0, 455.6, 144.6, 181.6]</td>\n",
       "      <td>0</td>\n",
       "      <td>2</td>\n",
       "    </tr>\n",
       "    <tr>\n",
       "      <th>3</th>\n",
       "      <td>1</td>\n",
       "      <td>4</td>\n",
       "      <td>69096.17</td>\n",
       "      <td>[722.3, 313.4, 274.3, 251.9]</td>\n",
       "      <td>0</td>\n",
       "      <td>3</td>\n",
       "    </tr>\n",
       "    <tr>\n",
       "      <th>4</th>\n",
       "      <td>1</td>\n",
       "      <td>5</td>\n",
       "      <td>24164.58</td>\n",
       "      <td>[353.2, 671.0, 233.7, 103.4]</td>\n",
       "      <td>0</td>\n",
       "      <td>4</td>\n",
       "    </tr>\n",
       "    <tr>\n",
       "      <th>...</th>\n",
       "      <td>...</td>\n",
       "      <td>...</td>\n",
       "      <td>...</td>\n",
       "      <td>...</td>\n",
       "      <td>...</td>\n",
       "      <td>...</td>\n",
       "    </tr>\n",
       "    <tr>\n",
       "      <th>23139</th>\n",
       "      <td>4882</td>\n",
       "      <td>5</td>\n",
       "      <td>768591.81</td>\n",
       "      <td>[0.0, 116.2, 944.1, 814.1]</td>\n",
       "      <td>0</td>\n",
       "      <td>23139</td>\n",
       "    </tr>\n",
       "    <tr>\n",
       "      <th>23140</th>\n",
       "      <td>4882</td>\n",
       "      <td>7</td>\n",
       "      <td>57309.72</td>\n",
       "      <td>[302.1, 439.3, 265.2, 216.1]</td>\n",
       "      <td>0</td>\n",
       "      <td>23140</td>\n",
       "    </tr>\n",
       "    <tr>\n",
       "      <th>23141</th>\n",
       "      <td>4882</td>\n",
       "      <td>0</td>\n",
       "      <td>1772.74</td>\n",
       "      <td>[511.3, 451.1, 58.7, 30.2]</td>\n",
       "      <td>0</td>\n",
       "      <td>23141</td>\n",
       "    </tr>\n",
       "    <tr>\n",
       "      <th>23142</th>\n",
       "      <td>4882</td>\n",
       "      <td>1</td>\n",
       "      <td>53008.67</td>\n",
       "      <td>[255.0, 421.4, 271.7, 195.1]</td>\n",
       "      <td>0</td>\n",
       "      <td>23142</td>\n",
       "    </tr>\n",
       "    <tr>\n",
       "      <th>23143</th>\n",
       "      <td>4882</td>\n",
       "      <td>1</td>\n",
       "      <td>149633.22</td>\n",
       "      <td>[145.4, 295.4, 420.2, 356.1]</td>\n",
       "      <td>0</td>\n",
       "      <td>23143</td>\n",
       "    </tr>\n",
       "  </tbody>\n",
       "</table>\n",
       "<p>23144 rows × 6 columns</p>\n",
       "</div>"
      ],
      "text/plain": [
       "       image_id  category_id       area                          bbox  \\\n",
       "0             0            0  257301.66  [197.6, 193.7, 547.8, 469.7]   \n",
       "1             1            3   10402.56     [0.0, 407.4, 57.6, 180.6]   \n",
       "2             1            7   26259.36    [0.0, 455.6, 144.6, 181.6]   \n",
       "3             1            4   69096.17  [722.3, 313.4, 274.3, 251.9]   \n",
       "4             1            5   24164.58  [353.2, 671.0, 233.7, 103.4]   \n",
       "...         ...          ...        ...                           ...   \n",
       "23139      4882            5  768591.81    [0.0, 116.2, 944.1, 814.1]   \n",
       "23140      4882            7   57309.72  [302.1, 439.3, 265.2, 216.1]   \n",
       "23141      4882            0    1772.74    [511.3, 451.1, 58.7, 30.2]   \n",
       "23142      4882            1   53008.67  [255.0, 421.4, 271.7, 195.1]   \n",
       "23143      4882            1  149633.22  [145.4, 295.4, 420.2, 356.1]   \n",
       "\n",
       "       iscrowd     id  \n",
       "0            0      0  \n",
       "1            0      1  \n",
       "2            0      2  \n",
       "3            0      3  \n",
       "4            0      4  \n",
       "...        ...    ...  \n",
       "23139        0  23139  \n",
       "23140        0  23140  \n",
       "23141        0  23141  \n",
       "23142        0  23142  \n",
       "23143        0  23143  \n",
       "\n",
       "[23144 rows x 6 columns]"
      ]
     },
     "metadata": {},
     "execution_count": 18
    }
   ],
   "metadata": {}
  },
  {
   "cell_type": "code",
   "execution_count": 19,
   "source": [
    "bbox_array = np.array(annotations_df['bbox'].to_list())\n",
    "bbox_array.shape"
   ],
   "outputs": [
    {
     "output_type": "execute_result",
     "data": {
      "text/plain": [
       "(23144, 4)"
      ]
     },
     "metadata": {},
     "execution_count": 19
    }
   ],
   "metadata": {}
  },
  {
   "cell_type": "code",
   "execution_count": 20,
   "source": [
    "# x\n",
    "annotations_df['x_min'] = bbox_array[:, 0]\n",
    "annotations_df['x_center'] = bbox_array[:, 0] + bbox_array[:, 2]/2\n",
    "annotations_df['x_max'] = bbox_array[:, 0] + bbox_array[:, 2]\n",
    "# y\n",
    "annotations_df['y_min'] = bbox_array[:, 1]\n",
    "annotations_df['y_center'] = bbox_array[:, 1] + bbox_array[:, 3]/2\n",
    "annotations_df['y_max'] = bbox_array[:, 1] + bbox_array[:, 3]\n",
    "annotations_df['y_min'] = bbox_array[:, 1]\n",
    "# w\n",
    "annotations_df['w'] = bbox_array[:, 2]\n",
    "# h\n",
    "annotations_df['h'] = bbox_array[:, 3]"
   ],
   "outputs": [],
   "metadata": {}
  },
  {
   "cell_type": "code",
   "execution_count": 21,
   "source": [
    "annotations_df"
   ],
   "outputs": [
    {
     "output_type": "execute_result",
     "data": {
      "text/html": [
       "<div>\n",
       "<style scoped>\n",
       "    .dataframe tbody tr th:only-of-type {\n",
       "        vertical-align: middle;\n",
       "    }\n",
       "\n",
       "    .dataframe tbody tr th {\n",
       "        vertical-align: top;\n",
       "    }\n",
       "\n",
       "    .dataframe thead th {\n",
       "        text-align: right;\n",
       "    }\n",
       "</style>\n",
       "<table border=\"1\" class=\"dataframe\">\n",
       "  <thead>\n",
       "    <tr style=\"text-align: right;\">\n",
       "      <th></th>\n",
       "      <th>image_id</th>\n",
       "      <th>category_id</th>\n",
       "      <th>area</th>\n",
       "      <th>bbox</th>\n",
       "      <th>iscrowd</th>\n",
       "      <th>id</th>\n",
       "      <th>x_min</th>\n",
       "      <th>x_center</th>\n",
       "      <th>x_max</th>\n",
       "      <th>y_min</th>\n",
       "      <th>y_center</th>\n",
       "      <th>y_max</th>\n",
       "      <th>w</th>\n",
       "      <th>h</th>\n",
       "    </tr>\n",
       "  </thead>\n",
       "  <tbody>\n",
       "    <tr>\n",
       "      <th>0</th>\n",
       "      <td>0</td>\n",
       "      <td>0</td>\n",
       "      <td>257301.66</td>\n",
       "      <td>[197.6, 193.7, 547.8, 469.7]</td>\n",
       "      <td>0</td>\n",
       "      <td>0</td>\n",
       "      <td>197.6</td>\n",
       "      <td>471.50</td>\n",
       "      <td>745.4</td>\n",
       "      <td>193.7</td>\n",
       "      <td>428.55</td>\n",
       "      <td>663.4</td>\n",
       "      <td>547.8</td>\n",
       "      <td>469.7</td>\n",
       "    </tr>\n",
       "    <tr>\n",
       "      <th>1</th>\n",
       "      <td>1</td>\n",
       "      <td>3</td>\n",
       "      <td>10402.56</td>\n",
       "      <td>[0.0, 407.4, 57.6, 180.6]</td>\n",
       "      <td>0</td>\n",
       "      <td>1</td>\n",
       "      <td>0.0</td>\n",
       "      <td>28.80</td>\n",
       "      <td>57.6</td>\n",
       "      <td>407.4</td>\n",
       "      <td>497.70</td>\n",
       "      <td>588.0</td>\n",
       "      <td>57.6</td>\n",
       "      <td>180.6</td>\n",
       "    </tr>\n",
       "    <tr>\n",
       "      <th>2</th>\n",
       "      <td>1</td>\n",
       "      <td>7</td>\n",
       "      <td>26259.36</td>\n",
       "      <td>[0.0, 455.6, 144.6, 181.6]</td>\n",
       "      <td>0</td>\n",
       "      <td>2</td>\n",
       "      <td>0.0</td>\n",
       "      <td>72.30</td>\n",
       "      <td>144.6</td>\n",
       "      <td>455.6</td>\n",
       "      <td>546.40</td>\n",
       "      <td>637.2</td>\n",
       "      <td>144.6</td>\n",
       "      <td>181.6</td>\n",
       "    </tr>\n",
       "    <tr>\n",
       "      <th>3</th>\n",
       "      <td>1</td>\n",
       "      <td>4</td>\n",
       "      <td>69096.17</td>\n",
       "      <td>[722.3, 313.4, 274.3, 251.9]</td>\n",
       "      <td>0</td>\n",
       "      <td>3</td>\n",
       "      <td>722.3</td>\n",
       "      <td>859.45</td>\n",
       "      <td>996.6</td>\n",
       "      <td>313.4</td>\n",
       "      <td>439.35</td>\n",
       "      <td>565.3</td>\n",
       "      <td>274.3</td>\n",
       "      <td>251.9</td>\n",
       "    </tr>\n",
       "    <tr>\n",
       "      <th>4</th>\n",
       "      <td>1</td>\n",
       "      <td>5</td>\n",
       "      <td>24164.58</td>\n",
       "      <td>[353.2, 671.0, 233.7, 103.4]</td>\n",
       "      <td>0</td>\n",
       "      <td>4</td>\n",
       "      <td>353.2</td>\n",
       "      <td>470.05</td>\n",
       "      <td>586.9</td>\n",
       "      <td>671.0</td>\n",
       "      <td>722.70</td>\n",
       "      <td>774.4</td>\n",
       "      <td>233.7</td>\n",
       "      <td>103.4</td>\n",
       "    </tr>\n",
       "    <tr>\n",
       "      <th>...</th>\n",
       "      <td>...</td>\n",
       "      <td>...</td>\n",
       "      <td>...</td>\n",
       "      <td>...</td>\n",
       "      <td>...</td>\n",
       "      <td>...</td>\n",
       "      <td>...</td>\n",
       "      <td>...</td>\n",
       "      <td>...</td>\n",
       "      <td>...</td>\n",
       "      <td>...</td>\n",
       "      <td>...</td>\n",
       "      <td>...</td>\n",
       "      <td>...</td>\n",
       "    </tr>\n",
       "    <tr>\n",
       "      <th>23139</th>\n",
       "      <td>4882</td>\n",
       "      <td>5</td>\n",
       "      <td>768591.81</td>\n",
       "      <td>[0.0, 116.2, 944.1, 814.1]</td>\n",
       "      <td>0</td>\n",
       "      <td>23139</td>\n",
       "      <td>0.0</td>\n",
       "      <td>472.05</td>\n",
       "      <td>944.1</td>\n",
       "      <td>116.2</td>\n",
       "      <td>523.25</td>\n",
       "      <td>930.3</td>\n",
       "      <td>944.1</td>\n",
       "      <td>814.1</td>\n",
       "    </tr>\n",
       "    <tr>\n",
       "      <th>23140</th>\n",
       "      <td>4882</td>\n",
       "      <td>7</td>\n",
       "      <td>57309.72</td>\n",
       "      <td>[302.1, 439.3, 265.2, 216.1]</td>\n",
       "      <td>0</td>\n",
       "      <td>23140</td>\n",
       "      <td>302.1</td>\n",
       "      <td>434.70</td>\n",
       "      <td>567.3</td>\n",
       "      <td>439.3</td>\n",
       "      <td>547.35</td>\n",
       "      <td>655.4</td>\n",
       "      <td>265.2</td>\n",
       "      <td>216.1</td>\n",
       "    </tr>\n",
       "    <tr>\n",
       "      <th>23141</th>\n",
       "      <td>4882</td>\n",
       "      <td>0</td>\n",
       "      <td>1772.74</td>\n",
       "      <td>[511.3, 451.1, 58.7, 30.2]</td>\n",
       "      <td>0</td>\n",
       "      <td>23141</td>\n",
       "      <td>511.3</td>\n",
       "      <td>540.65</td>\n",
       "      <td>570.0</td>\n",
       "      <td>451.1</td>\n",
       "      <td>466.20</td>\n",
       "      <td>481.3</td>\n",
       "      <td>58.7</td>\n",
       "      <td>30.2</td>\n",
       "    </tr>\n",
       "    <tr>\n",
       "      <th>23142</th>\n",
       "      <td>4882</td>\n",
       "      <td>1</td>\n",
       "      <td>53008.67</td>\n",
       "      <td>[255.0, 421.4, 271.7, 195.1]</td>\n",
       "      <td>0</td>\n",
       "      <td>23142</td>\n",
       "      <td>255.0</td>\n",
       "      <td>390.85</td>\n",
       "      <td>526.7</td>\n",
       "      <td>421.4</td>\n",
       "      <td>518.95</td>\n",
       "      <td>616.5</td>\n",
       "      <td>271.7</td>\n",
       "      <td>195.1</td>\n",
       "    </tr>\n",
       "    <tr>\n",
       "      <th>23143</th>\n",
       "      <td>4882</td>\n",
       "      <td>1</td>\n",
       "      <td>149633.22</td>\n",
       "      <td>[145.4, 295.4, 420.2, 356.1]</td>\n",
       "      <td>0</td>\n",
       "      <td>23143</td>\n",
       "      <td>145.4</td>\n",
       "      <td>355.50</td>\n",
       "      <td>565.6</td>\n",
       "      <td>295.4</td>\n",
       "      <td>473.45</td>\n",
       "      <td>651.5</td>\n",
       "      <td>420.2</td>\n",
       "      <td>356.1</td>\n",
       "    </tr>\n",
       "  </tbody>\n",
       "</table>\n",
       "<p>23144 rows × 14 columns</p>\n",
       "</div>"
      ],
      "text/plain": [
       "       image_id  category_id       area                          bbox  \\\n",
       "0             0            0  257301.66  [197.6, 193.7, 547.8, 469.7]   \n",
       "1             1            3   10402.56     [0.0, 407.4, 57.6, 180.6]   \n",
       "2             1            7   26259.36    [0.0, 455.6, 144.6, 181.6]   \n",
       "3             1            4   69096.17  [722.3, 313.4, 274.3, 251.9]   \n",
       "4             1            5   24164.58  [353.2, 671.0, 233.7, 103.4]   \n",
       "...         ...          ...        ...                           ...   \n",
       "23139      4882            5  768591.81    [0.0, 116.2, 944.1, 814.1]   \n",
       "23140      4882            7   57309.72  [302.1, 439.3, 265.2, 216.1]   \n",
       "23141      4882            0    1772.74    [511.3, 451.1, 58.7, 30.2]   \n",
       "23142      4882            1   53008.67  [255.0, 421.4, 271.7, 195.1]   \n",
       "23143      4882            1  149633.22  [145.4, 295.4, 420.2, 356.1]   \n",
       "\n",
       "       iscrowd     id  x_min  x_center  x_max  y_min  y_center  y_max      w  \\\n",
       "0            0      0  197.6    471.50  745.4  193.7    428.55  663.4  547.8   \n",
       "1            0      1    0.0     28.80   57.6  407.4    497.70  588.0   57.6   \n",
       "2            0      2    0.0     72.30  144.6  455.6    546.40  637.2  144.6   \n",
       "3            0      3  722.3    859.45  996.6  313.4    439.35  565.3  274.3   \n",
       "4            0      4  353.2    470.05  586.9  671.0    722.70  774.4  233.7   \n",
       "...        ...    ...    ...       ...    ...    ...       ...    ...    ...   \n",
       "23139        0  23139    0.0    472.05  944.1  116.2    523.25  930.3  944.1   \n",
       "23140        0  23140  302.1    434.70  567.3  439.3    547.35  655.4  265.2   \n",
       "23141        0  23141  511.3    540.65  570.0  451.1    466.20  481.3   58.7   \n",
       "23142        0  23142  255.0    390.85  526.7  421.4    518.95  616.5  271.7   \n",
       "23143        0  23143  145.4    355.50  565.6  295.4    473.45  651.5  420.2   \n",
       "\n",
       "           h  \n",
       "0      469.7  \n",
       "1      180.6  \n",
       "2      181.6  \n",
       "3      251.9  \n",
       "4      103.4  \n",
       "...      ...  \n",
       "23139  814.1  \n",
       "23140  216.1  \n",
       "23141   30.2  \n",
       "23142  195.1  \n",
       "23143  356.1  \n",
       "\n",
       "[23144 rows x 14 columns]"
      ]
     },
     "metadata": {},
     "execution_count": 21
    }
   ],
   "metadata": {}
  },
  {
   "cell_type": "markdown",
   "source": [
    "# Split data\n",
    "\n",
    "- reference\n",
    "https://www.kaggle.com/backtracking/smart-data-split-train-eval-for-object-detection/notebook"
   ],
   "metadata": {}
  },
  {
   "cell_type": "code",
   "execution_count": 112,
   "source": [
    "skf = StratifiedKFold(n_splits=5, shuffle=True, random_state=2013)\n",
    "df_folds = annotations_df[['image_id']].copy()"
   ],
   "outputs": [],
   "metadata": {}
  },
  {
   "cell_type": "code",
   "execution_count": 113,
   "source": [
    "df_folds.loc[:, 'bbox_count'] = 1\n",
    "df_folds = df_folds.groupby('image_id').count()\n",
    "df_folds.loc[:, 'object_count'] = annotations_df.groupby('image_id')['category_id'].nunique()\n",
    "df_folds.loc[:, 'stratify_group'] = np.char.add(\n",
    "    df_folds['object_count'].values.astype(str),\n",
    "    df_folds['bbox_count'].apply(lambda x: f'_{x // 10}').values.astype(str)\n",
    ")"
   ],
   "outputs": [],
   "metadata": {}
  },
  {
   "cell_type": "code",
   "execution_count": 114,
   "source": [
    "df_folds"
   ],
   "outputs": [
    {
     "output_type": "execute_result",
     "data": {
      "text/html": [
       "<div>\n",
       "<style scoped>\n",
       "    .dataframe tbody tr th:only-of-type {\n",
       "        vertical-align: middle;\n",
       "    }\n",
       "\n",
       "    .dataframe tbody tr th {\n",
       "        vertical-align: top;\n",
       "    }\n",
       "\n",
       "    .dataframe thead th {\n",
       "        text-align: right;\n",
       "    }\n",
       "</style>\n",
       "<table border=\"1\" class=\"dataframe\">\n",
       "  <thead>\n",
       "    <tr style=\"text-align: right;\">\n",
       "      <th></th>\n",
       "      <th>bbox_count</th>\n",
       "      <th>object_count</th>\n",
       "      <th>stratify_group</th>\n",
       "    </tr>\n",
       "    <tr>\n",
       "      <th>image_id</th>\n",
       "      <th></th>\n",
       "      <th></th>\n",
       "      <th></th>\n",
       "    </tr>\n",
       "  </thead>\n",
       "  <tbody>\n",
       "    <tr>\n",
       "      <th>0</th>\n",
       "      <td>1</td>\n",
       "      <td>1</td>\n",
       "      <td>1_0</td>\n",
       "    </tr>\n",
       "    <tr>\n",
       "      <th>1</th>\n",
       "      <td>8</td>\n",
       "      <td>5</td>\n",
       "      <td>5_0</td>\n",
       "    </tr>\n",
       "    <tr>\n",
       "      <th>2</th>\n",
       "      <td>1</td>\n",
       "      <td>1</td>\n",
       "      <td>1_0</td>\n",
       "    </tr>\n",
       "    <tr>\n",
       "      <th>3</th>\n",
       "      <td>2</td>\n",
       "      <td>2</td>\n",
       "      <td>2_0</td>\n",
       "    </tr>\n",
       "    <tr>\n",
       "      <th>4</th>\n",
       "      <td>6</td>\n",
       "      <td>2</td>\n",
       "      <td>2_0</td>\n",
       "    </tr>\n",
       "    <tr>\n",
       "      <th>...</th>\n",
       "      <td>...</td>\n",
       "      <td>...</td>\n",
       "      <td>...</td>\n",
       "    </tr>\n",
       "    <tr>\n",
       "      <th>4878</th>\n",
       "      <td>1</td>\n",
       "      <td>1</td>\n",
       "      <td>1_0</td>\n",
       "    </tr>\n",
       "    <tr>\n",
       "      <th>4879</th>\n",
       "      <td>4</td>\n",
       "      <td>3</td>\n",
       "      <td>3_0</td>\n",
       "    </tr>\n",
       "    <tr>\n",
       "      <th>4880</th>\n",
       "      <td>1</td>\n",
       "      <td>1</td>\n",
       "      <td>1_0</td>\n",
       "    </tr>\n",
       "    <tr>\n",
       "      <th>4881</th>\n",
       "      <td>4</td>\n",
       "      <td>2</td>\n",
       "      <td>2_0</td>\n",
       "    </tr>\n",
       "    <tr>\n",
       "      <th>4882</th>\n",
       "      <td>5</td>\n",
       "      <td>4</td>\n",
       "      <td>4_0</td>\n",
       "    </tr>\n",
       "  </tbody>\n",
       "</table>\n",
       "<p>4883 rows × 3 columns</p>\n",
       "</div>"
      ],
      "text/plain": [
       "          bbox_count  object_count stratify_group\n",
       "image_id                                         \n",
       "0                  1             1            1_0\n",
       "1                  8             5            5_0\n",
       "2                  1             1            1_0\n",
       "3                  2             2            2_0\n",
       "4                  6             2            2_0\n",
       "...              ...           ...            ...\n",
       "4878               1             1            1_0\n",
       "4879               4             3            3_0\n",
       "4880               1             1            1_0\n",
       "4881               4             2            2_0\n",
       "4882               5             4            4_0\n",
       "\n",
       "[4883 rows x 3 columns]"
      ]
     },
     "metadata": {},
     "execution_count": 114
    }
   ],
   "metadata": {}
  },
  {
   "cell_type": "code",
   "execution_count": 115,
   "source": [
    "df_folds.loc[:, 'fold'] = 0\n",
    "for fold_number, (train_index, val_index) in enumerate(skf.split(X=df_folds.index, y=df_folds['stratify_group'])):\n",
    "    df_folds.loc[df_folds.iloc[val_index].index, 'fold'] = fold_number"
   ],
   "outputs": [
    {
     "output_type": "stream",
     "name": "stderr",
     "text": [
      "/opt/conda/envs/py39_venv/lib/python3.9/site-packages/sklearn/model_selection/_split.py:676: UserWarning: The least populated class in y has only 1 members, which is less than n_splits=5.\n",
      "  warnings.warn(\n"
     ]
    }
   ],
   "metadata": {}
  },
  {
   "cell_type": "code",
   "execution_count": 116,
   "source": [
    "df = annotations_df.copy()\n",
    "df_folds"
   ],
   "outputs": [
    {
     "output_type": "execute_result",
     "data": {
      "text/html": [
       "<div>\n",
       "<style scoped>\n",
       "    .dataframe tbody tr th:only-of-type {\n",
       "        vertical-align: middle;\n",
       "    }\n",
       "\n",
       "    .dataframe tbody tr th {\n",
       "        vertical-align: top;\n",
       "    }\n",
       "\n",
       "    .dataframe thead th {\n",
       "        text-align: right;\n",
       "    }\n",
       "</style>\n",
       "<table border=\"1\" class=\"dataframe\">\n",
       "  <thead>\n",
       "    <tr style=\"text-align: right;\">\n",
       "      <th></th>\n",
       "      <th>bbox_count</th>\n",
       "      <th>object_count</th>\n",
       "      <th>stratify_group</th>\n",
       "      <th>fold</th>\n",
       "    </tr>\n",
       "    <tr>\n",
       "      <th>image_id</th>\n",
       "      <th></th>\n",
       "      <th></th>\n",
       "      <th></th>\n",
       "      <th></th>\n",
       "    </tr>\n",
       "  </thead>\n",
       "  <tbody>\n",
       "    <tr>\n",
       "      <th>0</th>\n",
       "      <td>1</td>\n",
       "      <td>1</td>\n",
       "      <td>1_0</td>\n",
       "      <td>2</td>\n",
       "    </tr>\n",
       "    <tr>\n",
       "      <th>1</th>\n",
       "      <td>8</td>\n",
       "      <td>5</td>\n",
       "      <td>5_0</td>\n",
       "      <td>2</td>\n",
       "    </tr>\n",
       "    <tr>\n",
       "      <th>2</th>\n",
       "      <td>1</td>\n",
       "      <td>1</td>\n",
       "      <td>1_0</td>\n",
       "      <td>1</td>\n",
       "    </tr>\n",
       "    <tr>\n",
       "      <th>3</th>\n",
       "      <td>2</td>\n",
       "      <td>2</td>\n",
       "      <td>2_0</td>\n",
       "      <td>4</td>\n",
       "    </tr>\n",
       "    <tr>\n",
       "      <th>4</th>\n",
       "      <td>6</td>\n",
       "      <td>2</td>\n",
       "      <td>2_0</td>\n",
       "      <td>1</td>\n",
       "    </tr>\n",
       "    <tr>\n",
       "      <th>...</th>\n",
       "      <td>...</td>\n",
       "      <td>...</td>\n",
       "      <td>...</td>\n",
       "      <td>...</td>\n",
       "    </tr>\n",
       "    <tr>\n",
       "      <th>4878</th>\n",
       "      <td>1</td>\n",
       "      <td>1</td>\n",
       "      <td>1_0</td>\n",
       "      <td>4</td>\n",
       "    </tr>\n",
       "    <tr>\n",
       "      <th>4879</th>\n",
       "      <td>4</td>\n",
       "      <td>3</td>\n",
       "      <td>3_0</td>\n",
       "      <td>0</td>\n",
       "    </tr>\n",
       "    <tr>\n",
       "      <th>4880</th>\n",
       "      <td>1</td>\n",
       "      <td>1</td>\n",
       "      <td>1_0</td>\n",
       "      <td>3</td>\n",
       "    </tr>\n",
       "    <tr>\n",
       "      <th>4881</th>\n",
       "      <td>4</td>\n",
       "      <td>2</td>\n",
       "      <td>2_0</td>\n",
       "      <td>2</td>\n",
       "    </tr>\n",
       "    <tr>\n",
       "      <th>4882</th>\n",
       "      <td>5</td>\n",
       "      <td>4</td>\n",
       "      <td>4_0</td>\n",
       "      <td>2</td>\n",
       "    </tr>\n",
       "  </tbody>\n",
       "</table>\n",
       "<p>4883 rows × 4 columns</p>\n",
       "</div>"
      ],
      "text/plain": [
       "          bbox_count  object_count stratify_group  fold\n",
       "image_id                                               \n",
       "0                  1             1            1_0     2\n",
       "1                  8             5            5_0     2\n",
       "2                  1             1            1_0     1\n",
       "3                  2             2            2_0     4\n",
       "4                  6             2            2_0     1\n",
       "...              ...           ...            ...   ...\n",
       "4878               1             1            1_0     4\n",
       "4879               4             3            3_0     0\n",
       "4880               1             1            1_0     3\n",
       "4881               4             2            2_0     2\n",
       "4882               5             4            4_0     2\n",
       "\n",
       "[4883 rows x 4 columns]"
      ]
     },
     "metadata": {},
     "execution_count": 116
    }
   ],
   "metadata": {}
  },
  {
   "cell_type": "code",
   "execution_count": 120,
   "source": [
    "df_folds.reset_index(inplace=True)\n",
    "\n",
    "df_valid = pd.merge(df, df_folds[df_folds['fold'] == 0], on='image_id')\n",
    "df_train = pd.merge(df, df_folds[df_folds['fold'] != 0], on='image_id')\n",
    "\n",
    "fig, ax = plt.subplots(1, 1, figsize=(10, 6), dpi=100)\n",
    "df_train['category_id'].hist(ax=ax, bins=np.arange(-1, 10)+0.5, label='train')\n",
    "df_valid['category_id'].hist(ax=ax, bins=np.arange(-1, 10)+0.5, label='valid')\n",
    "ax.set_xticks([_ for _ in range(10)])\n",
    "ax.set_xlabel('category')\n",
    "ax.legend()"
   ],
   "outputs": [
    {
     "output_type": "execute_result",
     "data": {
      "text/plain": [
       "<matplotlib.legend.Legend at 0x7ff015707dc0>"
      ]
     },
     "metadata": {},
     "execution_count": 120
    },
    {
     "output_type": "display_data",
     "data": {
      "image/png": "[encoded data removed]",
      "text/plain": [
       "<Figure size 1000x600 with 1 Axes>"
      ]
     },
     "metadata": {
      "needs_background": "light"
     }
    }
   ],
   "metadata": {}
  },
  {
   "cell_type": "code",
   "execution_count": 159,
   "source": [
    "# df_valid['category_id'].value_counts(normalize=True)\n",
    "df_valid['category_id'].value_counts()"
   ],
   "outputs": [
    {
     "output_type": "execute_result",
     "data": {
      "text/plain": [
       "1    1250\n",
       "7     974\n",
       "0     779\n",
       "5     650\n",
       "6     298\n",
       "4     202\n",
       "2     189\n",
       "3     164\n",
       "9      81\n",
       "8      55\n",
       "Name: category_id, dtype: int64"
      ]
     },
     "metadata": {},
     "execution_count": 159
    }
   ],
   "metadata": {}
  },
  {
   "cell_type": "code",
   "execution_count": 160,
   "source": [
    "# df_train['category_id'].value_counts(normalize=True)\n",
    "df_train['category_id'].value_counts()"
   ],
   "outputs": [
    {
     "output_type": "execute_result",
     "data": {
      "text/plain": [
       "1    5102\n",
       "7    4204\n",
       "0    3187\n",
       "5    2293\n",
       "6     965\n",
       "4     780\n",
       "3     772\n",
       "2     708\n",
       "9     387\n",
       "8     104\n",
       "Name: category_id, dtype: int64"
      ]
     },
     "metadata": {},
     "execution_count": 160
    }
   ],
   "metadata": {}
  },
  {
   "cell_type": "code",
   "execution_count": 155,
   "source": [
    "df_train.to_csv('annotations_train.csv', index=False)\n",
    "df_valid.to_csv('annotations_valid.csv', index=False)"
   ],
   "outputs": [],
   "metadata": {}
  },
  {
   "cell_type": "code",
   "execution_count": 139,
   "source": [
    "category_per_image_dict = df_folds['object_count'].value_counts().to_dict()"
   ],
   "outputs": [],
   "metadata": {}
  },
  {
   "cell_type": "code",
   "execution_count": 148,
   "source": [
    "category_per_image_dict.keys()"
   ],
   "outputs": [
    {
     "output_type": "execute_result",
     "data": {
      "text/plain": [
       "dict_keys([1, 2, 3, 4, 5, 6, 7])"
      ]
     },
     "metadata": {},
     "execution_count": 148
    }
   ],
   "metadata": {}
  },
  {
   "cell_type": "code",
   "execution_count": 158,
   "source": [
    "fig, ax = plt.subplots(1, 1, dpi=100)\n",
    "ax.bar(x=[_ for _ in range(1, 8)], height=category_per_image_dict.values())\n",
    "for key in category_per_image_dict:\n",
    "    ax.text(key, category_per_image_dict[key]+100, category_per_image_dict[key], ha='center', fontdict={'size': 12})\n",
    "ax.set_yticks([])\n",
    "ax.spines['top'].set_visible(False)\n",
    "ax.spines['left'].set_visible(False)\n",
    "ax.spines['right'].set_visible(False)\n",
    "ax.set_title('Categories per image', fontdict={'size': 13})\n",
    "ax.set_xlabel('Number of categories', fontdict={'size': 12})"
   ],
   "outputs": [
    {
     "output_type": "execute_result",
     "data": {
      "text/plain": [
       "Text(0.5, 0, 'Number of categories')"
      ]
     },
     "metadata": {},
     "execution_count": 158
    },
    {
     "output_type": "display_data",
     "data": {
      "image/png": "[encoded data removed]",
      "text/plain": [
       "<Figure size 600x400 with 1 Axes>"
      ]
     },
     "metadata": {
      "needs_background": "light"
     }
    }
   ],
   "metadata": {}
  },
  {
   "cell_type": "code",
   "execution_count": 13,
   "source": [
    "fig, ax = plt.subplots(1, 1, dpi=100)\n",
    "sns.kdeplot(annotations_df.loc[annotations_df['category_id'] == 0, 'area'], ax=ax, log_scale=True)\n",
    "sns.kdeplot(annotations_df.loc[annotations_df['category_id'] == 1, 'area'], ax=ax, log_scale=True)\n",
    "sns.kdeplot(annotations_df.loc[annotations_df['category_id'] == 2, 'area'], ax=ax, log_scale=True)\n",
    "sns.kdeplot(annotations_df.loc[annotations_df['category_id'] == 3, 'area'], ax=ax, log_scale=True)\n",
    "sns.kdeplot(annotations_df.loc[annotations_df['category_id'] == 4, 'area'], ax=ax, log_scale=True)\n",
    "sns.kdeplot(annotations_df.loc[annotations_df['category_id'] == 5, 'area'], ax=ax, log_scale=True)\n",
    "sns.kdeplot(annotations_df.loc[annotations_df['category_id'] == 6, 'area'], ax=ax, log_scale=True)\n",
    "sns.kdeplot(annotations_df.loc[annotations_df['category_id'] == 7, 'area'], ax=ax, log_scale=True)\n",
    "sns.kdeplot(annotations_df.loc[annotations_df['category_id'] == 8, 'area'], ax=ax, log_scale=True)\n",
    "sns.kdeplot(annotations_df.loc[annotations_df['category_id'] == 9, 'area'], ax=ax, log_scale=True)\n",
    "ax.set_xlim(1e2, 1.5e6)"
   ],
   "outputs": [
    {
     "output_type": "execute_result",
     "data": {
      "text/plain": [
       "(100.0, 1500000.0)"
      ]
     },
     "metadata": {},
     "execution_count": 13
    },
    {
     "output_type": "display_data",
     "data": {
      "image/png": "[encoded data removed]",
      "text/plain": [
       "<Figure size 600x400 with 1 Axes>"
      ]
     },
     "metadata": {
      "needs_background": "light"
     }
    }
   ],
   "metadata": {}
  },
  {
   "cell_type": "markdown",
   "source": [
    "# Make JSON format"
   ],
   "metadata": {}
  },
  {
   "cell_type": "code",
   "execution_count": null,
   "source": [],
   "outputs": [],
   "metadata": {}
  },
  {
   "cell_type": "code",
   "execution_count": null,
   "source": [],
   "outputs": [],
   "metadata": {}
  },
  {
   "cell_type": "code",
   "execution_count": null,
   "source": [],
   "outputs": [],
   "metadata": {}
  },
  {
   "cell_type": "code",
   "execution_count": null,
   "source": [],
   "outputs": [],
   "metadata": {}
  }
 ],
 "metadata": {
  "orig_nbformat": 4,
  "language_info": {
   "name": "python",
   "version": "3.9.7",
   "mimetype": "text/x-python",
   "codemirror_mode": {
    "name": "ipython",
    "version": 3
   },
   "pygments_lexer": "ipython3",
   "nbconvert_exporter": "python",
   "file_extension": ".py"
  },
  "kernelspec": {
   "name": "python3",
   "display_name": "Python 3.9.7 64-bit ('py39_venv': conda)"
  },
  "interpreter": {
   "hash": "985fb2322e248804b87b25ed2501edc7ee30fd88a7882850565a7b0310231bc3"
  }
 },
 "nbformat": 4,
 "nbformat_minor": 2
}